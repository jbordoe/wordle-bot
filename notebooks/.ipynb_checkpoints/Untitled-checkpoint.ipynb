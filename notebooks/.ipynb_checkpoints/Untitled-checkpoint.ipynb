{
 "cells": [
  {
   "cell_type": "code",
   "execution_count": 12,
   "id": "7ed19b76",
   "metadata": {},
   "outputs": [
    {
     "ename": "ModuleNotFoundError",
     "evalue": "No module named 'alive_progress'",
     "output_type": "error",
     "traceback": [
      "\u001b[0;31m---------------------------------------------------------------------------\u001b[0m",
      "\u001b[0;31mModuleNotFoundError\u001b[0m                       Traceback (most recent call last)",
      "\u001b[0;32m<ipython-input-12-bad3f557ebd4>\u001b[0m in \u001b[0;36m<module>\u001b[0;34m\u001b[0m\n\u001b[1;32m      7\u001b[0m \u001b[0;32mimport\u001b[0m \u001b[0mseaborn\u001b[0m \u001b[0;32mas\u001b[0m \u001b[0msns\u001b[0m\u001b[0;34m\u001b[0m\u001b[0;34m\u001b[0m\u001b[0m\n\u001b[1;32m      8\u001b[0m \u001b[0;34m\u001b[0m\u001b[0m\n\u001b[0;32m----> 9\u001b[0;31m \u001b[0;32mfrom\u001b[0m \u001b[0malive_progress\u001b[0m \u001b[0;32mimport\u001b[0m \u001b[0malive_bar\u001b[0m\u001b[0;34m\u001b[0m\u001b[0;34m\u001b[0m\u001b[0m\n\u001b[0m\u001b[1;32m     10\u001b[0m \u001b[0;34m\u001b[0m\u001b[0m\n\u001b[1;32m     11\u001b[0m \u001b[0;32mfrom\u001b[0m \u001b[0mlib\u001b[0m\u001b[0;34m.\u001b[0m\u001b[0mgame_state\u001b[0m \u001b[0;32mimport\u001b[0m \u001b[0mGameState\u001b[0m\u001b[0;34m\u001b[0m\u001b[0;34m\u001b[0m\u001b[0m\n",
      "\u001b[0;31mModuleNotFoundError\u001b[0m: No module named 'alive_progress'"
     ]
    }
   ],
   "source": [
    "import os\n",
    "import sys\n",
    "module_path = os.path.abspath(os.path.join('..'))\n",
    "if module_path not in sys.path:\n",
    "    sys.path.append(module_path)\n",
    "    \n",
    "import seaborn as sns\n",
    "\n",
    "from alive_progress import alive_bar\n",
    "\n",
    "from lib.game_state import GameState\n",
    "from lib.player.naive_player import NaivePlayer\n",
    "from lib.words.simple_word_list import SimpleWordList\n",
    "from lib.words.word_index import WordIndex\n",
    "from lib.words.word_loader import WordLoader"
   ]
  },
  {
   "cell_type": "code",
   "execution_count": 7,
   "id": "1f142d7c",
   "metadata": {},
   "outputs": [],
   "source": [
    "def get_stats(runs):\n",
    "    wordlen = 5\n",
    "    word_list = WordLoader.load_wordlist()\n",
    "\n",
    "    print('running games')\n",
    "    guesses = {}\n",
    "    words = WordIndex(word_list)\n",
    "    with alive_bar(runs, bar='filling', spinner='dots') as bar:\n",
    "        for i in range(runs):\n",
    "            n_guesses = run_game(words, wordlen)\n",
    "            if n_guesses in guesses:\n",
    "                guesses[n_guesses] += 1\n",
    "            else:\n",
    "                guesses[n_guesses] = 1\n",
    "            bar()\n",
    "    return guesses\n",
    "\n",
    "def run_game(words, wordlen=5):\n",
    "    state = GameState(words.list)\n",
    "    player = NaivePlayer(state, words=words)\n",
    "    result = None\n",
    "    while True:\n",
    "        guess = player.guess(state, prev=result)\n",
    "        result = state.update(guess)\n",
    "\n",
    "        if guess == state.answer:\n",
    "            return state.guesses\n",
    "        else:\n",
    "            player.update_state(result)"
   ]
  },
  {
   "cell_type": "code",
   "execution_count": 10,
   "id": "950547ae",
   "metadata": {},
   "outputs": [
    {
     "name": "stdout",
     "output_type": "stream",
     "text": [
      "running games\n"
     ]
    },
    {
     "data": {
      "text/plain": [
       "<seaborn.axisgrid.FacetGrid at 0x1097710a0>"
      ]
     },
     "execution_count": 10,
     "metadata": {},
     "output_type": "execute_result"
    },
    {
     "data": {
      "image/png": "[encoded data removed]",
      "text/plain": [
       "<Figure size 360x360 with 1 Axes>"
      ]
     },
     "metadata": {
      "needs_background": "light"
     },
     "output_type": "display_data"
    }
   ],
   "source": [
    "RUNS = 100\n",
    "\n",
    "stats = get_stats(RUNS)\n",
    "\n",
    "sns.displot(stats)"
   ]
  },
  {
   "cell_type": "code",
   "execution_count": null,
   "id": "f4017f2a",
   "metadata": {},
   "outputs": [],
   "source": [
    "x = [a % 5 for a in range(100)]\n",
    "x2 = [a % 3 for a in range(100)]\n",
    "\n",
    "sns.displot([x,x2])"
   ]
  },
  {
   "cell_type": "code",
   "execution_count": null,
   "id": "fd201f3b",
   "metadata": {},
   "outputs": [],
   "source": []
  }
 ],
 "metadata": {
  "kernelspec": {
   "display_name": "Python 3",
   "language": "python",
   "name": "python3"
  },
  "language_info": {
   "codemirror_mode": {
    "name": "ipython",
    "version": 3
   },
   "file_extension": ".py",
   "mimetype": "text/x-python",
   "name": "python",
   "nbconvert_exporter": "python",
   "pygments_lexer": "ipython3",
   "version": "3.9.5"
  }
 },
 "nbformat": 4,
 "nbformat_minor": 5
}
