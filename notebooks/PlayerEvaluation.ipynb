{
 "cells": [
  {
   "cell_type": "code",
   "execution_count": 1,
   "id": "7ed19b76",
   "metadata": {},
   "outputs": [],
   "source": [
    "import os\n",
    "import sys\n",
    "module_path = os.path.abspath(os.path.join('..'))\n",
    "if module_path not in sys.path:\n",
    "    sys.path.append(module_path)\n",
    "    \n",
    "import seaborn as sns\n",
    "\n",
    "from lib.dummy_wordle_game import DummyWordleGame\n",
    "from lib.player.bot_player import BotPlayer\n",
    "from lib.words.simple_word_list import SimpleWordList\n",
    "from lib.words.word_index import WordIndex\n",
    "from lib.words.word_loader import WordLoader\n",
    "from lib.word_scorer.statistical_word_scorer import StatisticalWordScorer\n",
    "from lib.word_scorer.random_word_scorer import RandomWordScorer\n",
    "from lib.word_scorer.statistical_positional_word_scorer import StatisticalPositionalWordScorer"
   ]
  },
  {
   "cell_type": "code",
   "execution_count": 15,
   "id": "1f142d7c",
   "metadata": {},
   "outputs": [],
   "source": [
    "def get_stats(runs, words, ranker):\n",
    "    wordlen = 5\n",
    "\n",
    "    print('running games')\n",
    "    guesses = []\n",
    "    words = WordIndex(word_list)\n",
    "    for i in range(runs):\n",
    "        n_guesses = run_game(words, wordlen, ranker=ranker)\n",
    "        guesses.append(n_guesses)\n",
    "    return guesses\n",
    "\n",
    "def run_game(words, wordlen=5, ranker=None):\n",
    "    state = DummyWordleGame(words.list)\n",
    "    ranker = ranker or RandomWordScorer(words.list)\n",
    "    player = BotPlayer(state, words=words, ranker=ranker)\n",
    "    result = None\n",
    "    while True:\n",
    "        guess = player.guess(state, prev=result)\n",
    "        result = state.update(guess)\n",
    "\n",
    "        if guess == state.answer:\n",
    "            return state.guesses\n",
    "        else:\n",
    "            player.update_state(result)"
   ]
  },
  {
   "cell_type": "code",
   "execution_count": 17,
   "id": "abe59dc7",
   "metadata": {},
   "outputs": [
    {
     "name": "stdout",
     "output_type": "stream",
     "text": [
      "running games\n",
      "running games\n",
      "running games\n"
     ]
    },
    {
     "data": {
      "text/plain": [
       "<seaborn.axisgrid.FacetGrid at 0x12e01d1c0>"
      ]
     },
     "execution_count": 17,
     "metadata": {},
     "output_type": "execute_result"
    },
    {
     "data": {
      "image/png": "iVBORw0KGgoAAAANSUhEUgAAAeYAAAFgCAYAAABuetoKAAAAOXRFWHRTb2Z0d2FyZQBNYXRwbG90bGliIHZlcnNpb24zLjUuMSwgaHR0cHM6Ly9tYXRwbG90bGliLm9yZy/YYfK9AAAACXBIWXMAAAsTAAALEwEAmpwYAABXTElEQVR4nO3dd3yc1Z3v8c9vikbSSKMuWZYsybhiYzDg0EtIgEBoS0ISElJIcpc0kpuyN2GTXELI3mx2N7shm5DCppIsS1iSbAgxLaY3gwEb27hXFavXaRrNzLl/PM9II1llhD0zKr/36+XXjJ45z8xPFvirc57znCPGGJRSSik1MziyXYBSSimlRmgwK6WUUjOIBrNSSik1g2gwK6WUUjOIBrNSSik1g7iyXYDxctlll5mHH34422UopZRkuwA1u82ZHnNnZ2e2S1BKKaWO2ZwJZqWUUmou0GBWSimlZhANZqWUUmoG0WBWSimlZhANZqWUUmoG0WBWSimlZhANZqWUUmoG0WBWSimlZhANZqWUUmoG0WBWSimlZhANZjUxY7JdgVJKzTsazGp8sSH4j4vgsVuzXYlSSs0rc2Y/ZnWcbfwptLymvWallMow7TGro8Xj8PQ/W887dllfK6WUyggNZnW0YCeE+6BqDURD0Hsw2xUppdS8ocGsjtbfYj0uu9h6bN+RvVqUUmqe0WBWR0sE85K3WY/tb2SvFqWUmmfSGswicpmI7BKRvSJyyzivXyAir4pIVESuG+d1n4g0icgP01mnGqO/2XosXwHFddC+M7v1KKXUPJK2YBYRJ3AncDmwCni/iKwa0+wwcCNwzwRv8y3g6XTVqCbQ3wIOF3groGwZdO3NdkVKKTVvpLPHfAaw1xiz3xgTAe4FrkluYIw5aIx5HThq2q+InA5UAY+msUY1nv4WKFwIDgcUVEKwK9sVKaXUvJHOYK4BGpO+brKPTUlEHMC/An83RbubRGSTiGzq6Oh404WqMfqbwbfQep5fpsGslFIZNFMnf30aWG+MaZqskTHmLmPMOmPMuoqKigyVNg/0t4wO5qEgRILZrUkppeaJdK781QwsSvq61j6WirOB80Xk00ABkCMifmPMURPI1HFmjBXMKy63vvaWW4/BLsjJz15dSik1T6QzmF8GlonIYqxAvh74QConGmNuSDwXkRuBdRrKGRLqsRYV8dlXHfLLrMdgJxQvmvg8pZRSx0XahrKNMVHgZuARYAdwnzFmu4jcLiJXA4jIW0SkCXgP8FMR2Z6uelSKAp3Wo9e+NJCf1GNWSimVdmndxMIYsx5YP+bYrUnPX8Ya4p7sPX4F/CoN5anxhPusx7xi6zHRYw5oMCulVCbM1MlfKlvCvdZjbrH16E0aylZKKZV2GsxqtESPObfIevQUgTh1KFsppTJEg1mNFuqxHhND2Q6HNZwd0B6zUkplggazGm1sjxl0kRGllMogDWY1WrgXXHng8owc85ZrMCulVIZoMKvRwn0jw9gJ2mNWSqmM0WBWo4V6Rw9jgwazUkplkAazGi3cN3KrVEKuD8L91nKdSiml0kqDWY0W7j26x+zxQXwIouGslKSUUvOJBrMabbxrzJ5C+7X+jJejlFLzjQazGm28a8yJrwcHMl6OUkrNNxrMakQ8DoP9R19j9visx8G+jJeklFLzjQazGhEZABMfp8dsB7MOZSulVNppMKsRY3eWSkhcY9ahbKWUSjsNZjUi1Gs9jjcrG6xhbqWUUmmlwaxGjLdONuhQtlJKZZAGsxoRCViPOQWjj+ckhrI1mJVSKt00mNWIiN96HBvMThe4vXqNWSmlMkCDWY0Y7jF7j34t1zcy1K2UUiptNJjViMmC2ePToWyllMoADWY1YtJgLtShbKWUygANZjUi4genB5zuo19L7DCllFIqrTSY1YhIYPzeMuhQtlJKZYgGsxoxWTDn+nQoWymlMkCDWY2I+Cfv... [truncated]"
     },
     "metadata": {
      "needs_background": "light"
     },
     "output_type": "display_data"
    }
   ],
   "source": [
    "RUNS = 1000\n",
    "\n",
    "word_list = WordLoader.load_wordlist(sample_size=10000)\n",
    "    \n",
    "rand_ranker = RandomWordScorer(word_list)\n",
    "rand_stats = get_stats(RUNS, word_list, rand_ranker)\n",
    "\n",
    "stat_ranker = StatisticalWordScorer(word_list)\n",
    "stat_stats = get_stats(RUNS, word_list, stat_ranker)\n",
    "\n",
    "stat_ranker2 = StatisticalPositionalWordScorer(word_list)\n",
    "stat_stats2 = get_stats(RUNS, word_list, stat_ranker2)\n",
    "\n",
    "\n",
    "data = {\n",
    "    \"random\": rand_stats,\n",
    "    \"stat_ranker\": stat_stats,\n",
    "    \"stat_ranker_w_pos\": stat_stats2\n",
    "}\n",
    "\n",
    "sns.displot(data, kind=\"kde\")"
   ]
  },
  {
   "cell_type": "code",
   "execution_count": null,
   "id": "7921b4e3",
   "metadata": {},
   "outputs": [],
   "source": []
  }
 ],
 "metadata": {
  "kernelspec": {
   "display_name": "Python 3 (ipykernel)",
   "language": "python",
   "name": "python3"
  },
  "language_info": {
   "codemirror_mode": {
    "name": "ipython",
    "version": 3
   },
   "file_extension": ".py",
   "mimetype": "text/x-python",
   "name": "python",
   "nbconvert_exporter": "python",
   "pygments_lexer": "ipython3",
   "version": "3.9.5"
  }
 },
 "nbformat": 4,
 "nbformat_minor": 5
}