{
 "cells": [
  {
   "cell_type": "code",
   "execution_count": 1,
   "id": "7ed19b76",
   "metadata": {},
   "outputs": [],
   "source": [
    "import os\n",
    "import sys\n",
    "module_path = os.path.abspath(os.path.join('..'))\n",
    "if module_path not in sys.path:\n",
    "    sys.path.append(module_path)\n",
    "    \n",
    "import seaborn as sns\n",
    "\n",
    "from lib.dummy_wordle_game import DummyWordleGame\n",
    "from lib.player.bot_player import BotPlayer\n",
    "from lib.words.simple_word_list import SimpleWordList\n",
    "from lib.words.word_index import WordIndex\n",
    "from lib.words.word_loader import WordLoader\n",
    "from lib.stat_ranker import StatRanker\n",
    "from lib.random_ranker import RandomRanker"
   ]
  },
  {
   "cell_type": "code",
   "execution_count": 14,
   "id": "469d54b8",
   "metadata": {},
   "outputs": [],
   "source": [
    "import random\n",
    "\n",
    "from lib.ranker_interface import RankerInterface\n",
    "\n",
    "class StatRanker2(RankerInterface):\n",
    "    AZ = \"ABCDEFGHIJKLMNOPQRSTUVWXYZ\"\n",
    "\n",
    "    def __init__(self, wordlist, b=0):\n",
    "        self.wordlist = list(wordlist)\n",
    "        self.b = b\n",
    "        self.update(wordlist)\n",
    "\n",
    "    def rank(self, words):\n",
    "        self.update(words)\n",
    "\n",
    "        pairs = [(w, self.scores[w] + (random.random()*self.b)) for w in words]\n",
    "        ranked = [pair[0] for pair in sorted(pairs, key=lambda x: x[1], reverse=True)]\n",
    "        return ranked\n",
    "\n",
    "    def update(self, wordlist):\n",
    "        self.wordlist = list(wordlist)\n",
    "\n",
    "        s = self._calculate_scores()\n",
    "        self.scores = s\n",
    "        None\n",
    "\n",
    "    def _calculate_scores(self):\n",
    "        \n",
    "        freq = dict([(c, 0) for c in self.AZ])\n",
    "        pfreq = dict([((i,c), 0) for i in range(5) for c in self.AZ])\n",
    "\n",
    "        for w in self.wordlist:\n",
    "            for i, l in enumerate(w):\n",
    "                freq[l] += 1\n",
    "                pfreq[(i,l)] += 1\n",
    "\n",
    "        n = len(self.wordlist)\n",
    "\n",
    "        scores = {}\n",
    "\n",
    "        for c in self.AZ:\n",
    "            freq[c] /= n\n",
    "            for i in range(5): pfreq[(i,c)] /= n\n",
    "\n",
    "        for w in self.wordlist:\n",
    "            score = 0\n",
    "            for i, l in enumerate(w):\n",
    "                s = freq[l]\n",
    "                ps = pfreq[(i,l)]\n",
    "                \n",
    "                score += s * ps\n",
    "        \n",
    "            scores[w] = score\n",
    "            \n",
    "\n",
    "        return scores"
   ]
  },
  {
   "cell_type": "code",
   "execution_count": 15,
   "id": "1f142d7c",
   "metadata": {},
   "outputs": [],
   "source": [
    "def get_stats(runs, words, ranker):\n",
    "    wordlen = 5\n",
    "\n",
    "    print('running games')\n",
    "    guesses = []\n",
    "    words = WordIndex(word_list)\n",
    "    for i in range(runs):\n",
    "        n_guesses = run_game(words, wordlen, ranker=ranker)\n",
    "        guesses.append(n_guesses)\n",
    "    return guesses\n",
    "\n",
    "def run_game(words, wordlen=5, ranker=None):\n",
    "    state = DummyWordleGame(words.list)\n",
    "    ranker = ranker or RandomRanker(words.list)\n",
    "    player = BotPlayer(state, words=words, ranker=ranker)\n",
    "    result = None\n",
    "    while True:\n",
    "        guess = player.guess(state, prev=result)\n",
    "        result = state.update(guess)\n",
    "\n",
    "        if guess == state.answer:\n",
    "            return state.guesses\n",
    "        else:\n",
    "            player.update_state(result)"
   ]
  },
  {
   "cell_type": "code",
   "execution_count": 17,
   "id": "abe59dc7",
   "metadata": {},
   "outputs": [
    {
     "name": "stdout",
     "output_type": "stream",
     "text": [
      "running games\n",
      "running games\n",
      "running games\n"
     ]
    },
    {
     "data": {
      "text/plain": [
       "<seaborn.axisgrid.FacetGrid at 0x12e01d1c0>"
      ]
     },
     "execution_count": 17,
     "metadata": {},
     "output_type": "execute_result"
    },
    {
     "data": {
      "image/png": "[encoded data removed]",
      "text/plain": [
       "<Figure size 488x360 with 1 Axes>"
      ]
     },
     "metadata": {
      "needs_background": "light"
     },
     "output_type": "display_data"
    }
   ],
   "source": [
    "RUNS = 1000\n",
    "\n",
    "word_list = WordLoader.load_wordlist(sample_size=10000)\n",
    "    \n",
    "rand_ranker = RandomRanker(word_list)\n",
    "rand_stats = get_stats(RUNS, word_list, rand_ranker)\n",
    "\n",
    "stat_ranker = StatRanker(word_list)\n",
    "stat_stats = get_stats(RUNS, word_list, stat_ranker)\n",
    "\n",
    "stat_ranker2 = StatRanker2(word_list)\n",
    "stat_stats2 = get_stats(RUNS, word_list, stat_ranker2)\n",
    "\n",
    "\n",
    "data = {\n",
    "    \"random\": rand_stats,\n",
    "    \"stat_ranker\": stat_stats,\n",
    "    \"stat_ranker_w_pos\": stat_stats2\n",
    "}\n",
    "\n",
    "sns.displot(data, kind=\"kde\")"
   ]
  },
  {
   "cell_type": "code",
   "execution_count": null,
   "id": "7921b4e3",
   "metadata": {},
   "outputs": [],
   "source": []
  }
 ],
 "metadata": {
  "kernelspec": {
   "display_name": "Python 3 (ipykernel)",
   "language": "python",
   "name": "python3"
  },
  "language_info": {
   "codemirror_mode": {
    "name": "ipython",
    "version": 3
   },
   "file_extension": ".py",
   "mimetype": "text/x-python",
   "name": "python",
   "nbconvert_exporter": "python",
   "pygments_lexer": "ipython3",
   "version": "3.9.5"
  }
 },
 "nbformat": 4,
 "nbformat_minor": 5
}
